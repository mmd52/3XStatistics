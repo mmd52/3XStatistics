{
 "cells": [
  {
   "cell_type": "code",
   "execution_count": 9,
   "metadata": {},
   "outputs": [
    {
     "data": {
      "text/html": [
       "<!DOCTYPE html PUBLIC \"-//W3C//DTD HTML 4.01//EN\"\n",
       "   \"http://www.w3.org/TR/html4/strict.dtd\">\n",
       "\n",
       "<html>\n",
       "<head>\n",
       "  <title></title>\n",
       "  <meta http-equiv=\"content-type\" content=\"text/html; charset=None\">\n",
       "  <style type=\"text/css\">\n",
       "td.linenos { background-color: #f0f0f0; padding-right: 10px; }\n",
       "span.lineno { background-color: #f0f0f0; padding: 0 5px 0 5px; }\n",
       "pre { line-height: 125%; }\n",
       "body .hll { background-color: #ffffcc }\n",
       "body  { background: #ffffff; }\n",
       "body .c { color: #0000FF } /* Comment */\n",
       "body .k { color: #ff0000; font-weight: bold } /* Keyword */\n",
       "body .n { color: #008000 } /* Name */\n",
       "body .ch { color: #0000FF } /* Comment.Hashbang */\n",
       "body .cm { color: #0000FF } /* Comment.Multiline */\n",
       "body .cp { color: #0000FF } /* Comment.Preproc */\n",
       "body .cpf { color: #0000FF } /* Comment.PreprocFile */\n",
       "body .c1 { color: #0000FF } /* Comment.Single */\n",
       "body .cs { color: #0000FF } /* Comment.Special */\n",
       "body .kc { color: #ff0000; font-weight: bold } /* Keyword.Constant */\n",
       "body .kd { color: #ff0000; font-weight: bold } /* Keyword.Declaration */\n",
       "body .kn { color: #ff0000; font-weight: bold } /* Keyword.Namespace */\n",
       "body .kp { color: #ff0000; font-weight: bold } /* Keyword.Pseudo */\n",
       "body .kr { color: #ff0000; font-weight: bold } /* Keyword.Reserved */\n",
       "body .kt { color: #ff0000; font-weight: bold } /* Keyword.Type */\n",
       "body .s { color: #111111 } /* Literal.String */\n",
       "body .na { color: #008000 } /* Name.Attribute */\n",
       "body .nb { color: #008000 } /* Name.Builtin */\n",
       "body .nc { color: #008000 } /* Name.Class */\n",
       "body .no { color: #008000 } /* Name.Constant */\n",
       "body .nd { color: #008000 } /* Name.Decorator */\n",
       "body .ni { color: #008000 } /* Name.Entity */\n",
       "body .ne { color: #008000 } /* Name.Exception */\n",
       "body .nf { color: #008000 } /* Name.Function */\n",
       "body .nl { color: #008000 } /* Name.Label */\n",
       "body .nn { color: #008000 } /* Name.Namespace */\n",
       "body .nx { color: #008000 } /* Name.Other */\n",
       "body .py { color: #008000 } /* Name.Property */\n",
       "body .nt { color: #008000 } /* Name.Tag */\n",
       "body .nv { color: #008000 } /* Name.Variable */\n",
       "body .sb { color: #111111 } /* Literal.String.Backtick */\n",
       "body .sc { color: #111111 } /* Literal.String.Char */\n",
       "body .sd { color: #111111 } /* Literal.String.Doc */\n",
       "body .s2 { color: #111111 } /* Literal.String.Double */\n",
       "body .se { color: #111111 } /* Literal.String.Escape */\n",
       "body .sh { color: #111111 } /* Literal.String.Heredoc */\n",
       "body .si { color: #111111 } /* Literal.String.Interpol */\n",
       "body .sx { color: #111111 } /* Literal.String.Other */\n",
       "body .sr { color: #111111 } /* Literal.String.Regex */\n",
       "body .s1 { color: #111111 } /* Literal.String.Single */\n",
       "body .ss { color: #111111 } /* Literal.String.Symbol */\n",
       "body .bp { color: #008000 } /* Name.Builtin.Pseudo */\n",
       "body .vc { color: #008000 } /* Name.Variable.Class */\n",
       "body .vg { color: #008000 } /* Name.Variable.Global */\n",
       "body .vi { color: #008000 } /* Name.Variable.Instance */\n",
       "\n",
       "  </style>\n",
       "</head>\n",
       "<body>\n",
       "<h2></h2>\n",
       "\n",
       "<div class=\"highlight\"><pre><span></span><span class=\"s\">311  ods listing close;ods html5 (id=saspy_internal) file=stdout options(bitmap_mode=&#39;inline&#39;) device=svg; ods graphics on /</span><br><span class=\"s\">311! outputfmt=png;</span><br><span class=\"cm\">NOTE: Writing HTML5(SASPY_INTERNAL) Body file: STDOUT</span><br><span class=\"s\">312  </span><br><span class=\"s\">313  /*</span><br><span class=\"s\">314  \t@ Author MMD</span><br><span class=\"s\">315  \t  Date - 07/02/2018</span><br><span class=\"s\">316  */</span><br><span class=\"s\">317  *Set Path;</span><br><span class=\"s\">318  %let path=/folders/myfolders/MDS/SAS/3XStatistics/;</span><br><span class=\"s\">319  </span><br><span class=\"s\">320  libname MMD_Dir &quot;/folders/myfolders/MDS/SAS/3XStatistics/&quot;;</span><br><span class=\"cm\">NOTE: Libref MMD_DIR was successfully assigned as follows: </span><br><span class=\"cm\">      Engine:        V9 </span><br><span class=\"cm\">      Physical Name: /folders/myfolders/MDS/SAS/3XStatistics</span><br><span class=\"s\">321  </span><br><span class=\"s\">322  *Load and Store data in workspace;</span><br><span class=\"s\">323  proc import datafile = &#39;/folders/myfolders/MDS/SAS/3XStatistics/data.csv&#39;</span><br><span class=\"s\">324  out = MMD_Dir.data</span><br><span class=\"s\">325  dbms = csv</span><br><span class=\"s\">326  replace;</span><br><span class=\"s\">327  run;</span><br><span class=\"s\">328   /**********************************************************************</span><br><span class=\"s\">329   *   PRODUCT:   SAS</span><br><span class=\"s\">330   *   VERSION:   9.4</span><br><span class=\"s\">331   *   CREATOR:   External File Interface</span><br><span class=\"s\">332   *   DATE:      16MAY18</span><br><span class=\"s\">333   *   DESC:      Generated SAS Datastep Code</span><br><span class=\"s\">334   *   TEMPLATE SOURCE:  (None Specified.)</span><br><span class=\"s\">335   ***********************************************************************/</span><br><span class=\"s\">336      data MMD_DIR.DATA    ;</span><br><span class=\"s\">337      %let _EFIERR_ = 0; /* set the ERROR detection macro variable */</span><br><span class=\"s\">338      infile &#39;/folders/myfolders/MDS/SAS/3XStatistics/data.csv&#39; delimiter = &#39;,&#39; MISSOVER DSD lrecl=32767 firstobs=2 ;</span><br><span class=\"s\">339         informat SmartPhoneUsagePeriod $19. ;</span><br><span class=\"s\">340         informat SmartPhoneBrand $8. ;</span><br><span class=\"s\">341         informat MainUsagePhone $20. ;</span><br><span class=\"s\">342         informat UsagePeriod $9. ;</span><br><span class=\"s\">343         informat ReasonForBuying $22. ;</span><br><span class=\"s\">344         informat NumApps $12. ;</span><br><span class=\"s\">345         informat Top5Apps $63. ;</span><br><span class=\"s\">346         informat DesiredFeature $69. ;</span><br><span class=\"s\">347         informat PurchaseFrequency $12. ;</span><br><span class=\"s\">348         informat Brand best32. ;</span><br><span class=\"s\">349         informat Color best32. ;</span><br><span class=\"s\">350         informat CameraQuality best32. ;</span><br><span class=\"s\">351         informat BatteryLife best32. ;</span><br><span class=\"s\">352         informat OS best32. ;</span><br><span class=\"s\">353         informat Price best32. ;</span><br><span class=\"s\">354         informat ValueForMoney best32. ;</span><br><span class=\"s\">355         informat Recom_Frnd_Fly best32. ;</span><br><span class=\"s\">356         informat Trends best32. ;</span><br><span class=\"s\">357         informat PromotionsAvailable best32. ;</span><br><span class=\"s\">358         informat &quot;Call/Text&quot;N $4. ;</span><br><span class=\"s\">359         informat PrefMsgApp $38. ;</span><br><span class=\"s\">360         informat PaymentGatewayUsage $12. ;</span><br><span class=\"s\">361         informat PriceRange $14. ;</span><br><span class=\"s\">362         informat PhoneDistraction best32. ;</span><br><span class=\"s\">363         informat Country $24. ;</span><br><span class=\"s\">364         informat CountryLiveIn $24. ;</span><br><span class=\"s\">365         informat Age $7. ;</span><br><span class=\"s\">366         format SmartPhoneUsagePeriod $19. ;</span><br><span class=\"s\">367         format SmartPhoneBrand $8. ;</span><br><span class=\"s\">368         format MainUsagePhone $20. ;</span><br><span class=\"s\">369         format UsagePeriod $9. ;</span><br><span class=\"s\">370         format ReasonForBuying $22. ;</span><br><span class=\"s\">371         format NumApps $12. ;</span><br><span class=\"s\">372         format Top5Apps $63. ;</span><br><span class=\"s\">373         format DesiredFeature $69. ;</span><br><span class=\"s\">374         format PurchaseFrequency $12. ;</span><br><span class=\"s\">375         format Brand best12. ;</span><br><span class=\"s\">376         format Color best12. ;</span><br><span class=\"s\">377         format CameraQuality best12. ;</span><br><span class=\"s\">378         format BatteryLife best12. ;</span><br><span class=\"s\">379         format OS best12. ;</span><br><span class=\"s\">380         format Price best12. ;</span><br><span class=\"s\">381         format ValueForMoney best12. ;</span><br><span class=\"s\">382         format Recom_Frnd_Fly best12. ;</span><br><span class=\"s\">383         format Trends best12. ;</span><br><span class=\"s\">384         format PromotionsAvailable best12. ;</span><br><span class=\"s\">385         format &quot;Call/Text&quot;N $4. ;</span><br><span class=\"s\">386         format PrefMsgApp $38. ;</span><br><span class=\"s\">387         format PaymentGatewayUsage $12. ;</span><br><span class=\"s\">388         format PriceRange $14. ;</span><br><span class=\"s\">389         format PhoneDistraction best12. ;</span><br><span class=\"s\">390         format Country $24. ;</span><br><span class=\"s\">391         format CountryLiveIn $24. ;</span><br><span class=\"s\">392         format Age $7. ;</span><br><span class=\"s\">393      input</span><br><span class=\"s\">394                  SmartPhoneUsagePeriod  $</span><br><span class=\"s\">395                  SmartPhoneBrand  $</span><br><span class=\"s\">396                  MainUsagePhone  $</span><br><span class=\"s\">397                  UsagePeriod  $</span><br><span class=\"s\">398                  ReasonForBuying  $</span><br><span class=\"s\">399                  NumApps  $</span><br><span class=\"s\">400                  Top5Apps  $</span><br><span class=\"s\">401                  DesiredFeature  $</span><br><span class=\"s\">402                  PurchaseFrequency  $</span><br><span class=\"s\">403                  Brand</span><br><span class=\"s\">404                  Color</span><br><span class=\"s\">405                  CameraQuality</span><br><span class=\"s\">406                  BatteryLife</span><br><span class=\"s\">407                  OS</span><br><span class=\"s\">408                  Price</span><br><span class=\"s\">409                  ValueForMoney</span><br><span class=\"s\">410                  Recom_Frnd_Fly</span><br><span class=\"s\">411                  Trends</span><br><span class=\"s\">412                  PromotionsAvailable</span><br><span class=\"s\">413                  &quot;Call/Text&quot;N  $</span><br><span class=\"s\">414                  PrefMsgApp  $</span><br><span class=\"s\">415                  PaymentGatewayUsage  $</span><br><span class=\"s\">416                  PriceRange  $</span><br><span class=\"s\">417                  PhoneDistraction</span><br><span class=\"s\">418                  Country  $</span><br><span class=\"s\">419                  CountryLiveIn  $</span><br><span class=\"s\">420                  Age  $</span><br><span class=\"s\">421      ;</span><br><span class=\"s\">422      if _ERROR_ then call symputx(&#39;_EFIERR_&#39;,1);  /* set ERROR detection macro variable */</span><br><span class=\"s\">423      run;</span><br><span class=\"cm\">NOTE: The infile &#39;/folders/myfolders/MDS/SAS/3XStatistics/data.csv&#39; is:</span><br><span class=\"cm\">      Filename=/folders/myfolders/MDS/SAS/3XStatistics/data.csv,</span><br><span class=\"cm\">      Owner Name=root,Group Name=vboxsf,</span><br><span class=\"cm\">      Access Permission=-rwxrwx---,</span><br><span class=\"cm\">      Last Modified=16May2018:20:48:13,</span><br><span class=\"cm\">      File Size (bytes)=18528</span><br><br><span class=\"cm\">NOTE: 78 records were read from the infile &#39;/folders/myfolders/MDS/SAS/3XStatistics/data.csv&#39;.</span><br><span class=\"cm\">      The minimum record length was 172.</span><br><span class=\"cm\">      The maximum record length was 292.</span><br><span class=\"cm\">NOTE: The data set MMD_DIR.DATA has 78 observations and 27 variables.</span><br><span class=\"cm\">NOTE: DATA statement used (Total process time):</span><br><span class=\"cm\">      real time           0.02 seconds</span><br><span class=\"cm\">      cpu time            0.02 seconds</span><br><span class=\"cm\">      </span><br><span class=\"s\">78 rows created in MMD_DIR.DATA from /folders/myfolders/MDS/SAS/3XStatistics/data.csv.</span><br><span class=\"s\">  </span><br><span class=\"s\">  </span><br><span class=\"s\">  </span><br><span class=\"cm\">NOTE: MMD_DIR.DATA data set was successfully created.</span><br><span class=\"cm\">NOTE: The data set MMD_DIR.DATA has 78 observations and 27 variables.</span><br><span class=\"cm\">NOTE: PROCEDURE IMPORT used (Total process time):</span><br><span class=\"cm\">      real time           0.14 seconds</span><br><span class=\"cm\">      cpu time            0.09 seconds</span><br><span class=\"cm\">      </span><br><span class=\"s\">424  </span><br><span class=\"s\">425  ods html5 (id=saspy_internal) close;ods listing;</span><br><br><span class=\"s\">426  </span><br></pre></div>\n",
       "</body>\n",
       "</html>\n"
      ],
      "text/plain": [
       "<IPython.core.display.HTML object>"
      ]
     },
     "execution_count": 9,
     "metadata": {},
     "output_type": "execute_result"
    }
   ],
   "source": [
    "/* \n",
    "\t@ Author MMD\n",
    "\t  Date - 07/02/2018\n",
    "*/\n",
    "*Set Path;\n",
    "%let path=/folders/myfolders/MDS/SAS/3XStatistics/;\n",
    "\n",
    "libname MMD_Dir \"/folders/myfolders/MDS/SAS/3XStatistics/\";\n",
    "\n",
    "*Load and Store data in workspace;\n",
    "proc import datafile = '/folders/myfolders/MDS/SAS/3XStatistics/data.csv'\n",
    "out = MMD_Dir.data\n",
    "dbms = csv\n",
    "replace;\n",
    "run;"
   ]
  },
  {
   "cell_type": "code",
   "execution_count": null,
   "metadata": {},
   "outputs": [],
   "source": [
    "PROC SGPLOT DATA=MMD_Dir.data;\n",
    "        HBAR SmartPhoneBrand;\n",
    "RUN;"
   ]
  }
 ],
 "metadata": {
  "kernelspec": {
   "display_name": "SAS",
   "language": "sas",
   "name": "sas"
  },
  "language_info": {
   "codemirror_mode": "sas",
   "file_extension": ".sas",
   "mimetype": "text/x-sas",
   "name": "sas"
  }
 },
 "nbformat": 4,
 "nbformat_minor": 2
}
